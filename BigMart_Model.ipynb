{
 "cells": [
  {
   "cell_type": "markdown",
   "metadata": {},
   "source": [
    "## Creating a Decision Tree Model for the Bigmart Data Set"
   ]
  },
  {
   "cell_type": "code",
   "execution_count": 116,
   "metadata": {
    "collapsed": true
   },
   "outputs": [],
   "source": [
    "import pandas as pd\n",
    "import numpy as np\n",
    "from sklearn.cross_validation import train_test_split\n",
    "from sklearn import tree\n",
    "from sklearn.tree import DecisionTreeRegressor\n",
    "import matplotlib.pyplot as plt\n",
    "from sklearn.metrics import accuracy_score, r2_score\n",
    "from math import sqrt"
   ]
  },
  {
   "cell_type": "code",
   "execution_count": 117,
   "metadata": {
    "collapsed": true
   },
   "outputs": [],
   "source": [
    "df = pd.read_csv(\"BigMart-Training-Data-refine.csv\")      "
   ]
  },
  {
   "cell_type": "markdown",
   "metadata": {},
   "source": [
    "### Handle all NA's"
   ]
  },
  {
   "cell_type": "code",
   "execution_count": 118,
   "metadata": {},
   "outputs": [
    {
     "name": "stdout",
     "output_type": "stream",
     "text": [
      "['Item_Weight' 'Item_Fat_Content' 'Item_Visibility' 'Item_Type' 'Item_MRP'\n",
      " 'Outlet_Identifier' 'Outlet_Establishment_Year' 'Outlet_Size'\n",
      " 'Outlet_Location_Type' 'Outlet_Type' 'Item_Outlet_Sales']\n",
      "['Item_Weight' 'Item_Fat_Content' 'Item_Visibility' 'Item_Type' 'Item_MRP'\n",
      " 'Outlet_Identifier' 'Outlet_Size' 'Outlet_Location_Type' 'Outlet_Type'\n",
      " 'Item_Outlet_Sales']\n"
     ]
    }
   ],
   "source": [
    "#Drop establishment year bc too many nulls and no significant effect\n",
    "print(df.columns.values)\n",
    "df = df.drop(\"Outlet_Establishment_Year\",axis=1)\n",
    "print(df.columns.values)"
   ]
  },
  {
   "cell_type": "code",
   "execution_count": 119,
   "metadata": {
    "scrolled": true
   },
   "outputs": [
    {
     "name": "stdout",
     "output_type": "stream",
     "text": [
      "{'Baking Goods': 12.28, 'Household': 13.38, 'Hard Drinks': 11.4, 'Meat': 12.82, 'Snack Foods': 12.99, 'Starchy Foods': 13.69, 'Seafood': 12.55, 'Dairy': 13.43, 'Frozen Foods': 12.87, 'Breakfast': 12.77, 'Soft Drinks': 11.85, 'Health and Hygiene': 13.14, 'Breads': 11.35, 'Fruits and Vegetables': 13.22, 'Canned': 12.31, 'Others': 13.85}\n",
      "\n",
      "Item_Weight:\n",
      "% Nulls: 0.0\n"
     ]
    }
   ],
   "source": [
    "#Fill in Item weight with average based on types\n",
    "mapping = {}\n",
    "for t in set(df[\"Item_Type\"].values):\n",
    "    arr = df[df[\"Item_Type\"]==t]\n",
    "    mean = round(arr[\"Item_Weight\"].mean(),2)\n",
    "    mapping[t] = mean\n",
    "\n",
    "print(mapping)\n",
    "print()\n",
    "\n",
    "iw_ndx = list(df.columns.values).index(\"Item_Weight\")\n",
    "for i in range(0,len(df)):\n",
    "    if np.isnan(df.iloc[i][\"Item_Weight\"]):\n",
    "        t = df.iloc[i][\"Item_Type\"]\n",
    "        df.iat[i, iw_ndx] = mapping[t]\n",
    "\n",
    "nulls = len(df[df[\"Item_Weight\"].isnull()])\n",
    "print(\"Item_Weight:\\n% Nulls: {}\".format(100*nulls/len(df)))"
   ]
  },
  {
   "cell_type": "code",
   "execution_count": 120,
   "metadata": {},
   "outputs": [
    {
     "name": "stdout",
     "output_type": "stream",
     "text": [
      "['Supermarket Type1', 2]\n",
      "Small    930\n",
      "Name: Outlet_Size, dtype: int64\n",
      "\n",
      "['Supermarket Type1', 2]\n",
      "Small    930\n",
      "Name: Outlet_Size, dtype: int64\n",
      "\n",
      "['Grocery Store', 3]\n",
      "Series([], Name: Outlet_Size, dtype: int64)\n",
      "\n",
      "{'17', '45', '10'}\n",
      "{'45': 'Small', '10': 'Medium', '17': 'Small'}\n",
      "Used mode for similar stores where applicable and used overall mode if no data available\n"
     ]
    }
   ],
   "source": [
    "#Fill in a guessed value for Outlet_size based on location_type & type\n",
    "null_outlets = set(df[df[\"Outlet_Size\"].isnull()][\"Outlet_Identifier\"].values)\n",
    "for outlet in null_outlets:\n",
    "    arr = df[df[\"Outlet_Identifier\"] == outlet]\n",
    "    ltype = list(set(arr[\"Outlet_Location_Type\"].values))\n",
    "    otype = list(set(arr[\"Outlet_Type\"].values))\n",
    "    temp = df[df[\"Outlet_Location_Type\"]==ltype[0]]\n",
    "    temp = temp[temp[\"Outlet_Type\"]==otype[0]]\n",
    "    frequencies = temp[\"Outlet_Size\"].value_counts()\n",
    "    print(otype+ltype)\n",
    "    print(frequencies)\n",
    "    print()\n",
    "\n",
    "print(null_outlets)\n",
    "outlet_mapping = {\"45\": \"Small\", \"10\":\"Medium\", \"17\":\"Small\"}\n",
    "print(outlet_mapping)\n",
    "print(\"Used mode for similar stores where applicable and used overall mode if no data available\")"
   ]
  },
  {
   "cell_type": "code",
   "execution_count": 121,
   "metadata": {},
   "outputs": [
    {
     "name": "stdout",
     "output_type": "stream",
     "text": [
      "{'Small', 'High', 'Medium'}\n"
     ]
    }
   ],
   "source": [
    "os_ndx = list(df.columns.values).index(\"Outlet_Size\")\n",
    "for i in range(0,len(df)):\n",
    "    cur = df.iloc[i][\"Outlet_Size\"]\n",
    "    if type(cur) != str:\n",
    "        if np.isnan(df.iloc[i][\"Outlet_Size\"]):\n",
    "            val = outlet_mapping[str(df.iloc[i][\"Outlet_Identifier\"])]\n",
    "            df.iat[i,os_ndx] = val\n",
    "print(set(df[\"Outlet_Size\"].values))"
   ]
  },
  {
   "cell_type": "markdown",
   "metadata": {},
   "source": [
    "#### One final peak just to see how everything looks"
   ]
  },
  {
   "cell_type": "code",
   "execution_count": 122,
   "metadata": {},
   "outputs": [
    {
     "data": {
      "text/html": [
       "<div>\n",
       "<style>\n",
       "    .dataframe thead tr:only-child th {\n",
       "        text-align: right;\n",
       "    }\n",
       "\n",
       "    .dataframe thead th {\n",
       "        text-align: left;\n",
       "    }\n",
       "\n",
       "    .dataframe tbody tr th {\n",
       "        vertical-align: top;\n",
       "    }\n",
       "</style>\n",
       "<table border=\"1\" class=\"dataframe\">\n",
       "  <thead>\n",
       "    <tr style=\"text-align: right;\">\n",
       "      <th></th>\n",
       "      <th>Item_Weight</th>\n",
       "      <th>Item_Fat_Content</th>\n",
       "      <th>Item_Visibility</th>\n",
       "      <th>Item_Type</th>\n",
       "      <th>Item_MRP</th>\n",
       "      <th>Outlet_Identifier</th>\n",
       "      <th>Outlet_Size</th>\n",
       "      <th>Outlet_Location_Type</th>\n",
       "      <th>Outlet_Type</th>\n",
       "      <th>Item_Outlet_Sales</th>\n",
       "    </tr>\n",
       "  </thead>\n",
       "  <tbody>\n",
       "    <tr>\n",
       "      <th>0</th>\n",
       "      <td>9.30</td>\n",
       "      <td>Low_Fat</td>\n",
       "      <td>0.016047</td>\n",
       "      <td>Dairy</td>\n",
       "      <td>249.8092</td>\n",
       "      <td>49</td>\n",
       "      <td>Medium</td>\n",
       "      <td>1</td>\n",
       "      <td>Supermarket Type1</td>\n",
       "      <td>3735.1380</td>\n",
       "    </tr>\n",
       "    <tr>\n",
       "      <th>1</th>\n",
       "      <td>5.92</td>\n",
       "      <td>Regular</td>\n",
       "      <td>0.019278</td>\n",
       "      <td>Soft Drinks</td>\n",
       "      <td>48.2692</td>\n",
       "      <td>OUT018</td>\n",
       "      <td>Medium</td>\n",
       "      <td>3</td>\n",
       "      <td>Supermarket Type2</td>\n",
       "      <td>443.4228</td>\n",
       "    </tr>\n",
       "    <tr>\n",
       "      <th>2</th>\n",
       "      <td>17.50</td>\n",
       "      <td>Low_Fat</td>\n",
       "      <td>0.016760</td>\n",
       "      <td>Meat</td>\n",
       "      <td>141.6180</td>\n",
       "      <td>49</td>\n",
       "      <td>Medium</td>\n",
       "      <td>1</td>\n",
       "      <td>Supermarket Type1</td>\n",
       "      <td>2097.2700</td>\n",
       "    </tr>\n",
       "    <tr>\n",
       "      <th>3</th>\n",
       "      <td>19.20</td>\n",
       "      <td>Regular</td>\n",
       "      <td>0.000000</td>\n",
       "      <td>Fruits and Vegetables</td>\n",
       "      <td>182.0950</td>\n",
       "      <td>10</td>\n",
       "      <td>Medium</td>\n",
       "      <td>3</td>\n",
       "      <td>Grocery Store</td>\n",
       "      <td>732.3800</td>\n",
       "    </tr>\n",
       "    <tr>\n",
       "      <th>4</th>\n",
       "      <td>8.93</td>\n",
       "      <td>Low_Fat</td>\n",
       "      <td>0.000000</td>\n",
       "      <td>Household</td>\n",
       "      <td>53.8614</td>\n",
       "      <td>13</td>\n",
       "      <td>High</td>\n",
       "      <td>3</td>\n",
       "      <td>Supermarket Type1</td>\n",
       "      <td>994.7052</td>\n",
       "    </tr>\n",
       "  </tbody>\n",
       "</table>\n",
       "</div>"
      ],
      "text/plain": [
       "   Item_Weight Item_Fat_Content  Item_Visibility              Item_Type  \\\n",
       "0         9.30          Low_Fat         0.016047                  Dairy   \n",
       "1         5.92          Regular         0.019278            Soft Drinks   \n",
       "2        17.50          Low_Fat         0.016760                   Meat   \n",
       "3        19.20          Regular         0.000000  Fruits and Vegetables   \n",
       "4         8.93          Low_Fat         0.000000              Household   \n",
       "\n",
       "   Item_MRP Outlet_Identifier Outlet_Size  Outlet_Location_Type  \\\n",
       "0  249.8092                49      Medium                     1   \n",
       "1   48.2692            OUT018      Medium                     3   \n",
       "2  141.6180                49      Medium                     1   \n",
       "3  182.0950                10      Medium                     3   \n",
       "4   53.8614                13        High                     3   \n",
       "\n",
       "         Outlet_Type  Item_Outlet_Sales  \n",
       "0  Supermarket Type1          3735.1380  \n",
       "1  Supermarket Type2           443.4228  \n",
       "2  Supermarket Type1          2097.2700  \n",
       "3      Grocery Store           732.3800  \n",
       "4  Supermarket Type1           994.7052  "
      ]
     },
     "execution_count": 122,
     "metadata": {},
     "output_type": "execute_result"
    }
   ],
   "source": [
    "df.head()"
   ]
  },
  {
   "cell_type": "markdown",
   "metadata": {},
   "source": [
    "### Line to convert to dummies"
   ]
  },
  {
   "cell_type": "code",
   "execution_count": 123,
   "metadata": {},
   "outputs": [
    {
     "data": {
      "text/html": [
       "<div>\n",
       "<style>\n",
       "    .dataframe thead tr:only-child th {\n",
       "        text-align: right;\n",
       "    }\n",
       "\n",
       "    .dataframe thead th {\n",
       "        text-align: left;\n",
       "    }\n",
       "\n",
       "    .dataframe tbody tr th {\n",
       "        vertical-align: top;\n",
       "    }\n",
       "</style>\n",
       "<table border=\"1\" class=\"dataframe\">\n",
       "  <thead>\n",
       "    <tr style=\"text-align: right;\">\n",
       "      <th></th>\n",
       "      <th>Item_Weight</th>\n",
       "      <th>Item_Visibility</th>\n",
       "      <th>Item_MRP</th>\n",
       "      <th>Item_Outlet_Sales</th>\n",
       "      <th>Item_Fat_Content_Low_Fat</th>\n",
       "      <th>Item_Fat_Content_Regular</th>\n",
       "      <th>Item_Type_Baking Goods</th>\n",
       "      <th>Item_Type_Breads</th>\n",
       "      <th>Item_Type_Breakfast</th>\n",
       "      <th>Item_Type_Canned</th>\n",
       "      <th>...</th>\n",
       "      <th>Outlet_Size_High</th>\n",
       "      <th>Outlet_Size_Medium</th>\n",
       "      <th>Outlet_Size_Small</th>\n",
       "      <th>Outlet_Type_Grocery Store</th>\n",
       "      <th>Outlet_Type_Supermarket Type1</th>\n",
       "      <th>Outlet_Type_Supermarket Type2</th>\n",
       "      <th>Outlet_Type_Supermarket Type3</th>\n",
       "      <th>Outlet_Location_Type_1</th>\n",
       "      <th>Outlet_Location_Type_2</th>\n",
       "      <th>Outlet_Location_Type_3</th>\n",
       "    </tr>\n",
       "  </thead>\n",
       "  <tbody>\n",
       "    <tr>\n",
       "      <th>0</th>\n",
       "      <td>9.30</td>\n",
       "      <td>0.016047</td>\n",
       "      <td>249.8092</td>\n",
       "      <td>3735.1380</td>\n",
       "      <td>1</td>\n",
       "      <td>0</td>\n",
       "      <td>0</td>\n",
       "      <td>0</td>\n",
       "      <td>0</td>\n",
       "      <td>0</td>\n",
       "      <td>...</td>\n",
       "      <td>0</td>\n",
       "      <td>1</td>\n",
       "      <td>0</td>\n",
       "      <td>0</td>\n",
       "      <td>1</td>\n",
       "      <td>0</td>\n",
       "      <td>0</td>\n",
       "      <td>1</td>\n",
       "      <td>0</td>\n",
       "      <td>0</td>\n",
       "    </tr>\n",
       "    <tr>\n",
       "      <th>1</th>\n",
       "      <td>5.92</td>\n",
       "      <td>0.019278</td>\n",
       "      <td>48.2692</td>\n",
       "      <td>443.4228</td>\n",
       "      <td>0</td>\n",
       "      <td>1</td>\n",
       "      <td>0</td>\n",
       "      <td>0</td>\n",
       "      <td>0</td>\n",
       "      <td>0</td>\n",
       "      <td>...</td>\n",
       "      <td>0</td>\n",
       "      <td>1</td>\n",
       "      <td>0</td>\n",
       "      <td>0</td>\n",
       "      <td>0</td>\n",
       "      <td>1</td>\n",
       "      <td>0</td>\n",
       "      <td>0</td>\n",
       "      <td>0</td>\n",
       "      <td>1</td>\n",
       "    </tr>\n",
       "    <tr>\n",
       "      <th>2</th>\n",
       "      <td>17.50</td>\n",
       "      <td>0.016760</td>\n",
       "      <td>141.6180</td>\n",
       "      <td>2097.2700</td>\n",
       "      <td>1</td>\n",
       "      <td>0</td>\n",
       "      <td>0</td>\n",
       "      <td>0</td>\n",
       "      <td>0</td>\n",
       "      <td>0</td>\n",
       "      <td>...</td>\n",
       "      <td>0</td>\n",
       "      <td>1</td>\n",
       "      <td>0</td>\n",
       "      <td>0</td>\n",
       "      <td>1</td>\n",
       "      <td>0</td>\n",
       "      <td>0</td>\n",
       "      <td>1</td>\n",
       "      <td>0</td>\n",
       "      <td>0</td>\n",
       "    </tr>\n",
       "    <tr>\n",
       "      <th>3</th>\n",
       "      <td>19.20</td>\n",
       "      <td>0.000000</td>\n",
       "      <td>182.0950</td>\n",
       "      <td>732.3800</td>\n",
       "      <td>0</td>\n",
       "      <td>1</td>\n",
       "      <td>0</td>\n",
       "      <td>0</td>\n",
       "      <td>0</td>\n",
       "      <td>0</td>\n",
       "      <td>...</td>\n",
       "      <td>0</td>\n",
       "      <td>1</td>\n",
       "      <td>0</td>\n",
       "      <td>1</td>\n",
       "      <td>0</td>\n",
       "      <td>0</td>\n",
       "      <td>0</td>\n",
       "      <td>0</td>\n",
       "      <td>0</td>\n",
       "      <td>1</td>\n",
       "    </tr>\n",
       "    <tr>\n",
       "      <th>4</th>\n",
       "      <td>8.93</td>\n",
       "      <td>0.000000</td>\n",
       "      <td>53.8614</td>\n",
       "      <td>994.7052</td>\n",
       "      <td>1</td>\n",
       "      <td>0</td>\n",
       "      <td>0</td>\n",
       "      <td>0</td>\n",
       "      <td>0</td>\n",
       "      <td>0</td>\n",
       "      <td>...</td>\n",
       "      <td>1</td>\n",
       "      <td>0</td>\n",
       "      <td>0</td>\n",
       "      <td>0</td>\n",
       "      <td>1</td>\n",
       "      <td>0</td>\n",
       "      <td>0</td>\n",
       "      <td>0</td>\n",
       "      <td>0</td>\n",
       "      <td>1</td>\n",
       "    </tr>\n",
       "  </tbody>\n",
       "</table>\n",
       "<p>5 rows × 42 columns</p>\n",
       "</div>"
      ],
      "text/plain": [
       "   Item_Weight  Item_Visibility  Item_MRP  Item_Outlet_Sales  \\\n",
       "0         9.30         0.016047  249.8092          3735.1380   \n",
       "1         5.92         0.019278   48.2692           443.4228   \n",
       "2        17.50         0.016760  141.6180          2097.2700   \n",
       "3        19.20         0.000000  182.0950           732.3800   \n",
       "4         8.93         0.000000   53.8614           994.7052   \n",
       "\n",
       "   Item_Fat_Content_Low_Fat  Item_Fat_Content_Regular  Item_Type_Baking Goods  \\\n",
       "0                         1                         0                       0   \n",
       "1                         0                         1                       0   \n",
       "2                         1                         0                       0   \n",
       "3                         0                         1                       0   \n",
       "4                         1                         0                       0   \n",
       "\n",
       "   Item_Type_Breads  Item_Type_Breakfast  Item_Type_Canned  \\\n",
       "0                 0                    0                 0   \n",
       "1                 0                    0                 0   \n",
       "2                 0                    0                 0   \n",
       "3                 0                    0                 0   \n",
       "4                 0                    0                 0   \n",
       "\n",
       "            ...            Outlet_Size_High  Outlet_Size_Medium  \\\n",
       "0           ...                           0                   1   \n",
       "1           ...                           0                   1   \n",
       "2           ...                           0                   1   \n",
       "3           ...                           0                   1   \n",
       "4           ...                           1                   0   \n",
       "\n",
       "   Outlet_Size_Small  Outlet_Type_Grocery Store  \\\n",
       "0                  0                          0   \n",
       "1                  0                          0   \n",
       "2                  0                          0   \n",
       "3                  0                          1   \n",
       "4                  0                          0   \n",
       "\n",
       "   Outlet_Type_Supermarket Type1  Outlet_Type_Supermarket Type2  \\\n",
       "0                              1                              0   \n",
       "1                              0                              1   \n",
       "2                              1                              0   \n",
       "3                              0                              0   \n",
       "4                              1                              0   \n",
       "\n",
       "   Outlet_Type_Supermarket Type3  Outlet_Location_Type_1  \\\n",
       "0                              0                       1   \n",
       "1                              0                       0   \n",
       "2                              0                       1   \n",
       "3                              0                       0   \n",
       "4                              0                       0   \n",
       "\n",
       "   Outlet_Location_Type_2  Outlet_Location_Type_3  \n",
       "0                       0                       0  \n",
       "1                       0                       1  \n",
       "2                       0                       0  \n",
       "3                       0                       1  \n",
       "4                       0                       1  \n",
       "\n",
       "[5 rows x 42 columns]"
      ]
     },
     "execution_count": 123,
     "metadata": {},
     "output_type": "execute_result"
    }
   ],
   "source": [
    "#Populate with all categorical variables\n",
    "cat_list = df.select_dtypes(include=['object']).columns.tolist()\n",
    "cat_list.append(\"Outlet_Location_Type\") #This gets accidentally ignored bc its already numeric\n",
    "dummy_df = pd.get_dummies(df,columns=cat_list)\n",
    "dummy_df.head()"
   ]
  },
  {
   "cell_type": "markdown",
   "metadata": {},
   "source": [
    "### Prepping for Decision Tree Model"
   ]
  },
  {
   "cell_type": "code",
   "execution_count": 124,
   "metadata": {
    "collapsed": true
   },
   "outputs": [],
   "source": [
    "X = dummy_df.drop(\"Item_Outlet_Sales\",axis=1) #Populate this to be the df with all features EXCEPT TARGET\n",
    "Y = df[\"Item_Outlet_Sales\"] #Populate this to be the df with ONLY TARGET\n",
    "X_train, X_test, y_train, y_test = train_test_split(X, Y, test_size = 0.3, random_state = 100)"
   ]
  },
  {
   "cell_type": "markdown",
   "metadata": {},
   "source": [
    "### Training the Model"
   ]
  },
  {
   "cell_type": "code",
   "execution_count": 161,
   "metadata": {},
   "outputs": [
    {
     "data": {
      "text/plain": [
       "DecisionTreeRegressor(criterion='mse', max_depth=7, max_features=None,\n",
       "           max_leaf_nodes=None, min_impurity_decrease=0.0,\n",
       "           min_impurity_split=None, min_samples_leaf=5,\n",
       "           min_samples_split=2, min_weight_fraction_leaf=0.0,\n",
       "           presort=False, random_state=None, splitter='best')"
      ]
     },
     "execution_count": 161,
     "metadata": {},
     "output_type": "execute_result"
    }
   ],
   "source": [
    "model = DecisionTreeRegressor(max_depth=7,min_samples_leaf=5)\n",
    "#Chose some low arbitrary values for these parameters to prevent a memory crash\n",
    "model = model.fit(X_train,y_train)\n",
    "model"
   ]
  },
  {
   "cell_type": "markdown",
   "metadata": {},
   "source": [
    "### Performing a Prediction"
   ]
  },
  {
   "cell_type": "code",
   "execution_count": 162,
   "metadata": {
    "collapsed": true
   },
   "outputs": [],
   "source": [
    "y_pred = model.predict(X_test)"
   ]
  },
  {
   "cell_type": "markdown",
   "metadata": {},
   "source": [
    "### Calculate Model's Accuracy"
   ]
  },
  {
   "cell_type": "code",
   "execution_count": 163,
   "metadata": {},
   "outputs": [
    {
     "name": "stdout",
     "output_type": "stream",
     "text": [
      "This is not a simple classification so there is no simple percentage accuracy to be calculated\n"
     ]
    }
   ],
   "source": [
    "# y_true = y_test.as_matrix()\n",
    "# accuracy = accuracy_score(y_true,y_pred)\n",
    "# print(\"Our Model's Accuracy is: {}\".format(round(accuracy,2)*100))\n",
    "print(\"This is not a simple classification so there is no simple percentage accuracy to be calculated\")"
   ]
  },
  {
   "cell_type": "markdown",
   "metadata": {},
   "source": [
    "### Calculate's Model's R^2"
   ]
  },
  {
   "cell_type": "code",
   "execution_count": 164,
   "metadata": {},
   "outputs": [
    {
     "name": "stdout",
     "output_type": "stream",
     "text": [
      "Our Models' R^2 is: 0.5767920218491476\n"
     ]
    }
   ],
   "source": [
    "score = model.score(X_test,y_test)\n",
    "print(\"Our Models' R^2 is: {}\".format(score))"
   ]
  },
  {
   "cell_type": "markdown",
   "metadata": {},
   "source": [
    "### Calculate Model's Root Mean Sq. Error"
   ]
  },
  {
   "cell_type": "code",
   "execution_count": 165,
   "metadata": {},
   "outputs": [
    {
     "name": "stdout",
     "output_type": "stream",
     "text": [
      "Our Root Mean Square Error is: 1095.6431456478315\n"
     ]
    }
   ],
   "source": [
    "N = len(y_pred)\n",
    "# y_test = y_test.as_matrix()\n",
    "temp = [(y_pred[i]-y_test[i])**2 for i in range(0,N)]\n",
    "total = sum(temp)\n",
    "rmse = sqrt(total/N)\n",
    "print(\"Our Root Mean Square Error is: {}\".format(rmse))"
   ]
  },
  {
   "cell_type": "markdown",
   "metadata": {},
   "source": [
    "### Plotting Results"
   ]
  },
  {
   "cell_type": "code",
   "execution_count": 166,
   "metadata": {},
   "outputs": [
    {
     "data": {
      "image/png": "[encoded data removed]",
      "text/plain": [
       "<matplotlib.figure.Figure at 0x260ce1217b8>"
      ]
     },
     "metadata": {},
     "output_type": "display_data"
    },
    {
     "data": {
      "image/png": "[encoded data removed]",
      "text/plain": [
       "<matplotlib.figure.Figure at 0x260ce121be0>"
      ]
     },
     "metadata": {},
     "output_type": "display_data"
    }
   ],
   "source": [
    "plt.figure()\n",
    "X = [x for x in range(0,N)]\n",
    "plt.plot(X, y_pred,'bo', label=\"pred\")\n",
    "plt.xlabel(\"Observation #\")\n",
    "plt.ylabel(\"Target\")\n",
    "plt.title(\"Decision Tree Regression\")\n",
    "plt.legend()\n",
    "plt.figure()\n",
    "plt.plot(X, y_test, 'yo', label=\"test\")\n",
    "plt.xlabel(\"Observation #\")\n",
    "plt.ylabel(\"Target\")\n",
    "plt.title(\"Decision Tree Regression\")\n",
    "plt.legend()\n",
    "plt.show()"
   ]
  },
  {
   "cell_type": "code",
   "execution_count": 176,
   "metadata": {},
   "outputs": [
    {
     "data": {
      "text/html": [
       "<div>\n",
       "<style>\n",
       "    .dataframe thead tr:only-child th {\n",
       "        text-align: right;\n",
       "    }\n",
       "\n",
       "    .dataframe thead th {\n",
       "        text-align: left;\n",
       "    }\n",
       "\n",
       "    .dataframe tbody tr th {\n",
       "        vertical-align: top;\n",
       "    }\n",
       "</style>\n",
       "<table border=\"1\" class=\"dataframe\">\n",
       "  <thead>\n",
       "    <tr style=\"text-align: right;\">\n",
       "      <th></th>\n",
       "      <th>Item_Weight</th>\n",
       "      <th>Item_Fat_Content</th>\n",
       "      <th>Item_Visibility</th>\n",
       "      <th>Item_Type</th>\n",
       "      <th>Item_MRP</th>\n",
       "      <th>Outlet_Identifier</th>\n",
       "      <th>Outlet_Size</th>\n",
       "      <th>Outlet_Location_Type</th>\n",
       "      <th>Outlet_Type</th>\n",
       "      <th>Item_Outlet_Sales</th>\n",
       "    </tr>\n",
       "  </thead>\n",
       "  <tbody>\n",
       "    <tr>\n",
       "      <th>0</th>\n",
       "      <td>9.30</td>\n",
       "      <td>Low_Fat</td>\n",
       "      <td>0.016047</td>\n",
       "      <td>Dairy</td>\n",
       "      <td>249.8092</td>\n",
       "      <td>49</td>\n",
       "      <td>Medium</td>\n",
       "      <td>1</td>\n",
       "      <td>Supermarket Type1</td>\n",
       "      <td>3735.1380</td>\n",
       "    </tr>\n",
       "    <tr>\n",
       "      <th>1</th>\n",
       "      <td>5.92</td>\n",
       "      <td>Regular</td>\n",
       "      <td>0.019278</td>\n",
       "      <td>Soft Drinks</td>\n",
       "      <td>48.2692</td>\n",
       "      <td>OUT018</td>\n",
       "      <td>Medium</td>\n",
       "      <td>3</td>\n",
       "      <td>Supermarket Type2</td>\n",
       "      <td>443.4228</td>\n",
       "    </tr>\n",
       "    <tr>\n",
       "      <th>2</th>\n",
       "      <td>17.50</td>\n",
       "      <td>Low_Fat</td>\n",
       "      <td>0.016760</td>\n",
       "      <td>Meat</td>\n",
       "      <td>141.6180</td>\n",
       "      <td>49</td>\n",
       "      <td>Medium</td>\n",
       "      <td>1</td>\n",
       "      <td>Supermarket Type1</td>\n",
       "      <td>2097.2700</td>\n",
       "    </tr>\n",
       "    <tr>\n",
       "      <th>3</th>\n",
       "      <td>19.20</td>\n",
       "      <td>Regular</td>\n",
       "      <td>0.000000</td>\n",
       "      <td>Fruits and Vegetables</td>\n",
       "      <td>182.0950</td>\n",
       "      <td>10</td>\n",
       "      <td>Medium</td>\n",
       "      <td>3</td>\n",
       "      <td>Grocery Store</td>\n",
       "      <td>732.3800</td>\n",
       "    </tr>\n",
       "    <tr>\n",
       "      <th>4</th>\n",
       "      <td>8.93</td>\n",
       "      <td>Low_Fat</td>\n",
       "      <td>0.000000</td>\n",
       "      <td>Household</td>\n",
       "      <td>53.8614</td>\n",
       "      <td>13</td>\n",
       "      <td>High</td>\n",
       "      <td>3</td>\n",
       "      <td>Supermarket Type1</td>\n",
       "      <td>994.7052</td>\n",
       "    </tr>\n",
       "  </tbody>\n",
       "</table>\n",
       "</div>"
      ],
      "text/plain": [
       "   Item_Weight Item_Fat_Content  Item_Visibility              Item_Type  \\\n",
       "0         9.30          Low_Fat         0.016047                  Dairy   \n",
       "1         5.92          Regular         0.019278            Soft Drinks   \n",
       "2        17.50          Low_Fat         0.016760                   Meat   \n",
       "3        19.20          Regular         0.000000  Fruits and Vegetables   \n",
       "4         8.93          Low_Fat         0.000000              Household   \n",
       "\n",
       "   Item_MRP Outlet_Identifier Outlet_Size  Outlet_Location_Type  \\\n",
       "0  249.8092                49      Medium                     1   \n",
       "1   48.2692            OUT018      Medium                     3   \n",
       "2  141.6180                49      Medium                     1   \n",
       "3  182.0950                10      Medium                     3   \n",
       "4   53.8614                13        High                     3   \n",
       "\n",
       "         Outlet_Type  Item_Outlet_Sales  \n",
       "0  Supermarket Type1          3735.1380  \n",
       "1  Supermarket Type2           443.4228  \n",
       "2  Supermarket Type1          2097.2700  \n",
       "3      Grocery Store           732.3800  \n",
       "4  Supermarket Type1           994.7052  "
      ]
     },
     "execution_count": 176,
     "metadata": {},
     "output_type": "execute_result"
    }
   ],
   "source": [
    "df.head()"
   ]
  }
 ],
 "metadata": {
  "kernelspec": {
   "display_name": "Python 3",
   "language": "python",
   "name": "python3"
  },
  "language_info": {
   "codemirror_mode": {
    "name": "ipython",
    "version": 3
   },
   "file_extension": ".py",
   "mimetype": "text/x-python",
   "name": "python",
   "nbconvert_exporter": "python",
   "pygments_lexer": "ipython3",
   "version": "3.6.2"
  }
 },
 "nbformat": 4,
 "nbformat_minor": 2
}
