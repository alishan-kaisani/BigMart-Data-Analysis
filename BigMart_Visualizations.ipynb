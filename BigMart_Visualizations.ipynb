{
 "cells": [
  {
   "cell_type": "code",
   "execution_count": 28,
   "metadata": {
    "collapsed": true
   },
   "outputs": [],
   "source": [
    "import pandas as pd\n",
    "import matplotlib.pyplot as plt"
   ]
  },
  {
   "cell_type": "code",
   "execution_count": 29,
   "metadata": {
    "collapsed": true
   },
   "outputs": [],
   "source": [
    "df = pd.read_csv(\"BigMart-Training-Data-refine.csv\")"
   ]
  },
  {
   "cell_type": "code",
   "execution_count": 30,
   "metadata": {},
   "outputs": [
    {
     "name": "stdout",
     "output_type": "stream",
     "text": [
      "   Item_Weight Item_Fat_Content  Item_Visibility              Item_Type  \\\n",
      "0         9.30          Low_Fat         0.016047                  Dairy   \n",
      "1         5.92          Regular         0.019278            Soft Drinks   \n",
      "2        17.50          Low_Fat         0.016760                   Meat   \n",
      "3        19.20          Regular         0.000000  Fruits and Vegetables   \n",
      "4         8.93          Low_Fat         0.000000              Household   \n",
      "\n",
      "   Item_MRP Outlet_Identifier  Outlet_Establishment_Year Outlet_Size  \\\n",
      "0  249.8092                49                     1999.0      Medium   \n",
      "1   48.2692            OUT018                     2009.0      Medium   \n",
      "2  141.6180                49                     1999.0      Medium   \n",
      "3  182.0950                10                     1998.0         NaN   \n",
      "4   53.8614                13                     1987.0        High   \n",
      "\n",
      "   Outlet_Location_Type        Outlet_Type  Item_Outlet_Sales  \n",
      "0                     1  Supermarket Type1          3735.1380  \n",
      "1                     3  Supermarket Type2           443.4228  \n",
      "2                     1  Supermarket Type1          2097.2700  \n",
      "3                     3      Grocery Store           732.3800  \n",
      "4                     3  Supermarket Type1           994.7052  \n"
     ]
    }
   ],
   "source": [
    "print(df.head())"
   ]
  },
  {
   "cell_type": "code",
   "execution_count": 31,
   "metadata": {
    "scrolled": true
   },
   "outputs": [
    {
     "name": "stdout",
     "output_type": "stream",
     "text": [
      "Total: 8523\n",
      "Null: 3873\n",
      "% Nulls: 45.44\n",
      "\n",
      "\n",
      "With these many Nulls, we have to consider doing something because it's too many to ignore\n",
      "\n",
      "Item_Weight:\n",
      "% Nulls: 17.0\n",
      "\n",
      "\n",
      "Item_Fat_Content:\n",
      "% Nulls: 0.0\n",
      "\n",
      "\n",
      "Item_Visibility:\n",
      "% Nulls: 0.0\n",
      "\n",
      "\n",
      "Item_Type:\n",
      "% Nulls: 0.0\n",
      "\n",
      "\n",
      "Item_MRP:\n",
      "% Nulls: 0.0\n",
      "\n",
      "\n",
      "Outlet_Identifier:\n",
      "% Nulls: 0.0\n",
      "\n",
      "\n",
      "Outlet_Establishment_Year:\n",
      "% Nulls: 17.0\n",
      "\n",
      "\n",
      "Outlet_Size:\n",
      "% Nulls: 28.000000000000004\n",
      "\n",
      "\n",
      "Outlet_Location_Type:\n",
      "% Nulls: 0.0\n",
      "\n",
      "\n",
      "Outlet_Type:\n",
      "% Nulls: 0.0\n",
      "\n",
      "\n",
      "Item_Outlet_Sales:\n",
      "% Nulls: 0.0\n",
      "\n",
      "\n",
      "Based on this we will need to see the impact of each feature on the target\n",
      " and potentially consider just dropping some of these features\n"
     ]
    }
   ],
   "source": [
    "null_entries = len(df[df.isnull().any(axis=1)])\n",
    "total_entries = len(df)\n",
    "print(\"Total: {}\\nNull: {}\\n% Nulls: {}\\n\\n\".format(total_entries,null_entries,round(100*null_entries/total_entries,2)))\n",
    "\n",
    "print(\"With these many Nulls, we have to consider doing something because it's too many to ignore\\n\")\n",
    "\n",
    "for col in df.columns.values:\n",
    "    null_entries = len(df[df[col].isnull()])\n",
    "    col_entries = len(df[col])\n",
    "    print(\"{}:\\n% Nulls: {}\\n\\n\".format(col,100*round(null_entries/col_entries,2)))\n",
    "\n",
    "\n",
    "print(\"Based on this we will need to see the impact of each feature on the target\\n and potentially consider just dropping some of these features\")"
   ]
  },
  {
   "cell_type": "code",
   "execution_count": 32,
   "metadata": {
    "scrolled": true
   },
   "outputs": [
    {
     "data": {
      "image/png": "[encoded data removed]",
      "text/plain": [
       "<matplotlib.figure.Figure at 0x17f1c6b4c50>"
      ]
     },
     "metadata": {},
     "output_type": "display_data"
    },
    {
     "name": "stdout",
     "output_type": "stream",
     "text": [
      "Item_Weight doesn't show a clear correlation with sales so it\n",
      "may be worth dropping as a feature\n"
     ]
    }
   ],
   "source": [
    "plt.plot(df[\"Item_Weight\"],df[\"Item_Outlet_Sales\"],\"bo\")\n",
    "plt.show()\n",
    "\n",
    "print(\"Item_Weight doesn't show a clear correlation with sales so it\\nmay be worth dropping as a feature\")"
   ]
  },
  {
   "cell_type": "code",
   "execution_count": 33,
   "metadata": {},
   "outputs": [
    {
     "data": {
      "image/png": "[encoded data removed]",
      "text/plain": [
       "<matplotlib.figure.Figure at 0x17f1c660ba8>"
      ]
     },
     "metadata": {},
     "output_type": "display_data"
    },
    {
     "name": "stdout",
     "output_type": "stream",
     "text": [
      "Item Visibility shows us something interesting\n",
      " Perhaps more visible items may be more expensive or correspond to specialty\n",
      " products that need to be shown off to drive the limited sale? \n",
      "This is something interesting to note that will have a good imapct on the mdoel\n"
     ]
    }
   ],
   "source": [
    "plt.plot(df[\"Item_Visibility\"],df[\"Item_Outlet_Sales\"],\"ro\")\n",
    "plt.show()\n",
    "\n",
    "print(\"Item Visibility shows us something interesting\\n Perhaps more visible items may be more expensive or correspond to specialty\\n products that need to be shown off to drive the limited sale? \\nThis is something interesting to note that will have a good imapct on the mdoel\")"
   ]
  },
  {
   "cell_type": "code",
   "execution_count": 34,
   "metadata": {
    "scrolled": false
   },
   "outputs": [
    {
     "data": {
      "image/png": "[encoded data removed]",
      "text/plain": [
       "<matplotlib.figure.Figure at 0x17f1c608630>"
      ]
     },
     "metadata": {},
     "output_type": "display_data"
    },
    {
     "name": "stdout",
     "output_type": "stream",
     "text": [
      "We can see some clustering around particular price ranges so it may be easier\n",
      " to capture the influence by remodeling this as a categorical variable\n"
     ]
    }
   ],
   "source": [
    "plt.plot(df[\"Item_MRP\"],df[\"Item_Outlet_Sales\"],\"g^\")\n",
    "plt.show()\n",
    "\n",
    "print(\"We can see some clustering around particular price ranges so it may be easier\\n to capture the influence by remodeling this as a categorical variable\")"
   ]
  },
  {
   "cell_type": "code",
   "execution_count": 35,
   "metadata": {},
   "outputs": [
    {
     "data": {
      "image/png": "[encoded data removed]",
      "text/plain": [
       "<matplotlib.figure.Figure at 0x17f1c672240>"
      ]
     },
     "metadata": {},
     "output_type": "display_data"
    },
    {
     "name": "stdout",
     "output_type": "stream",
     "text": [
      "We can see some clustering again, but there seems to be no strong trends\n",
      " The outlier year around 1998 could be just a random surge in store openings to economic growth?\n"
     ]
    }
   ],
   "source": [
    "plt.plot(df[\"Outlet_Establishment_Year\"],df[\"Item_Outlet_Sales\"],\"g^\")\n",
    "plt.show()\n",
    "\n",
    "print(\"We can see some clustering again, but there seems to be no strong trends\\n The outlier year around 1998 could be just a random surge in store openings to economic growth?\")"
   ]
  },
  {
   "cell_type": "code",
   "execution_count": 36,
   "metadata": {},
   "outputs": [
    {
     "name": "stdout",
     "output_type": "stream",
     "text": [
      "{'Item_Fat_Content': {'Regular': 0, 'Low_Fat': 1}}\n"
     ]
    },
    {
     "data": {
      "image/png": "[encoded data removed]",
      "text/plain": [
       "<matplotlib.figure.Figure at 0x17f1c8485c0>"
      ]
     },
     "metadata": {},
     "output_type": "display_data"
    },
    {
     "name": "stdout",
     "output_type": "stream",
     "text": [
      "Low Fat Mean: 2157.71, Regular Mean: 2224.56\n",
      "\n",
      "These averages are very similar so it doesnt seem that\n",
      " fat_content has a strong impact on outlet_sales\n"
     ]
    }
   ],
   "source": [
    "fat_mapping = {}\n",
    "i = 0\n",
    "for val in set(df[\"Item_Fat_Content\"].values):\n",
    "    fat_mapping[val] = i\n",
    "    i = i+1\n",
    "mapping = {\"Item_Fat_Content\": fat_mapping}\n",
    "fat_df = df.replace(fat_mapping)\n",
    "\n",
    "print(mapping)\n",
    "plt.plot(fat_df[\"Item_Fat_Content\"],fat_df[\"Item_Outlet_Sales\"],'g^')\n",
    "plt.show()\n",
    "\n",
    "lf_vals = (fat_df[fat_df[\"Item_Fat_Content\"] == 1][\"Item_Outlet_Sales\"])\n",
    "lf_mean = round(lf_vals.mean(),2)\n",
    "reg_vals = (fat_df[fat_df[\"Item_Fat_Content\"]== 0][\"Item_Outlet_Sales\"])\n",
    "reg_mean = round((reg_vals).mean(),2)\n",
    "print(\"Low Fat Mean: {}, Regular Mean: {}\\n\".format(lf_mean,reg_mean))\n",
    "\n",
    "print(\"These averages are very similar so it doesnt seem that\\n fat_content has a strong impact on outlet_sales\")"
   ]
  },
  {
   "cell_type": "code",
   "execution_count": 50,
   "metadata": {
    "scrolled": false
   },
   "outputs": [
    {
     "name": "stdout",
     "output_type": "stream",
     "text": [
      "{'Item_Type': {'Starchy Foods': 0, 'Breakfast': 1, 'Fruits and Vegetables': 2, 'Hard Drinks': 3, 'Meat': 4, 'Frozen Foods': 5, 'Baking Goods': 6, 'Breads': 7, 'Seafood': 8, 'Dairy': 9, 'Others': 10, 'Household': 11, 'Soft Drinks': 12, 'Snack Foods': 13, 'Canned': 14, 'Health and Hygiene': 15}}\n"
     ]
    },
    {
     "data": {
      "image/png": "[encoded data removed]",
      "text/plain": [
       "<matplotlib.figure.Figure at 0x17f1c8fea20>"
      ]
     },
     "metadata": {},
     "output_type": "display_data"
    },
    {
     "name": "stdout",
     "output_type": "stream",
     "text": [
      "\n",
      "There are so many categories here, the model could get confused, but there's also\n",
      " not sufficient clustering to merit group certain categories together\n",
      " May be best to just leave this feature as is but note that it may inadvertently hurt the model\n",
      "\n",
      "[2374.3299999999999, 2111.8099999999999, 2289.0100000000002, 2139.2199999999998, 2158.98, 2132.8699999999999, 1952.97, 2204.1300000000001, 2326.0700000000002, 2232.54, 1926.1400000000001, 2258.7800000000002, 2006.51, 2277.3200000000002, 2225.1900000000001, 2010.0]\n"
     ]
    }
   ],
   "source": [
    "type_mapping = {}\n",
    "i = 0\n",
    "for val in set(df[\"Item_Type\"].values):\n",
    "    type_mapping[val] = i\n",
    "    i = i+1\n",
    "mapping = {\"Item_Type\": type_mapping}\n",
    "type_df = df.replace(type_mapping)\n",
    "\n",
    "print(mapping)\n",
    "import statistics\n",
    "\n",
    "mean_list = []\n",
    "for item in set(type_df[\"Item_Type\"].values):\n",
    "    arr = type_df[type_df[\"Item_Type\"] == item][\"Item_Outlet_Sales\"]\n",
    "    mean = statistics.mean(arr)\n",
    "    mean_list.append(round(mean,2))\n",
    "    \n",
    "plt.bar(list(set(type_df[\"Item_Type\"].values)),mean_list,align='center')\n",
    "plt.axis([-1,16,1800,2400])\n",
    "plt.show()\n",
    "\n",
    "print()\n",
    "\n",
    "print(\"There are so many categories here, the model could get confused, but there's also\\n not sufficient clustering to merit group certain categories together\\n May be best to just leave this feature as is but note that it may inadvertently hurt the model\")\n",
    "\n",
    "new_cat_1 = [0,8,2]\n",
    "new_cat_2\n",
    "new_cat_3"
   ]
  },
  {
   "cell_type": "code",
   "execution_count": null,
   "metadata": {},
   "outputs": [],
   "source": [
    "print(\"Outlet_Identifier isn't worth looking into\\nAlso I don't believe it would provide any meaningful information\")"
   ]
  },
  {
   "cell_type": "code",
   "execution_count": null,
   "metadata": {},
   "outputs": [],
   "source": [
    "size_mapping = {}\n",
    "i = 0\n",
    "for val in set(df[\"Outlet_Size\"].values):\n",
    "    size_mapping[val] = i\n",
    "    i = i+1\n",
    "mapping = {\"Outlet_Size\": size_mapping}\n",
    "size_df = df.replace(mapping)\n",
    "\n",
    "print(mapping)\n",
    "plt.plot(size_df[\"Outlet_Size\"],size_df[\"Item_Outlet_Sales\"],'go')\n",
    "plt.show()\n",
    "\n",
    "print(size_df[\"Outlet_Size\"].value_counts())\n",
    "print()\n",
    "\n",
    "for val in list(range(0,len(set(df[\"Outlet_Size\"].values)))):\n",
    "    cur_vals = (size_df[size_df[\"Outlet_Size\"] == val])[\"Item_Outlet_Sales\"]\n",
    "    cur_mean = round(cur_vals.mean(),2)\n",
    "    print(\"{} Mean: {}\\n\".format(val,cur_mean))\n",
    "\n",
    "print(\"The visualization doesn't show too stark of a difference due to outliers,\\n but the means do show reasonable variation (ignoring the nan values)\")\n",
    "print(\"These nan values will have to be handled by filling in values, possibly ranodmly?\")\n",
    "print(\"The trend seems too significant to throw away the column and there's too many rows to throw away all the rows\")\n",
    "print(\"We'll need to think about this one\")"
   ]
  },
  {
   "cell_type": "code",
   "execution_count": null,
   "metadata": {},
   "outputs": [],
   "source": [
    "#No mapping needed on this one bc category values are already numeric\n",
    "location_df = df\n",
    "\n",
    "plt.plot(location_df[\"Outlet_Location_Type\"],location_df[\"Item_Outlet_Sales\"],'go')\n",
    "plt.show()\n",
    "\n",
    "print(location_df[\"Outlet_Location_Type\"].value_counts())\n",
    "print()\n",
    "\n",
    "for val in set(df[\"Outlet_Location_Type\"].values):\n",
    "    cur_vals = (location_df[location_df[\"Outlet_Location_Type\"] == val])[\"Item_Outlet_Sales\"]\n",
    "    cur_mean = round(cur_vals.mean(),2)\n",
    "    print(\"{} Mean: {}\\n\".format(val,cur_mean))\n",
    "    \n",
    "print(\"Locatoin type 1 seems to have a mean significantly different from the other two \\n but 2 and 3 seems very similar ignoring certain outlier values\")\n",
    "print(\"May be worth combining location types 2 and 3 since they're means are significantly different\\n but this is something to be tried later on\")"
   ]
  },
  {
   "cell_type": "code",
   "execution_count": null,
   "metadata": {
    "scrolled": false
   },
   "outputs": [],
   "source": [
    "type_mapping = {}\n",
    "i = 0\n",
    "for val in set(df[\"Outlet_Type\"].values):\n",
    "    type_mapping[val] = i\n",
    "    i = i+1\n",
    "mapping = {\"Outlet_Type\": type_mapping}\n",
    "type_df = df.replace(mapping)\n",
    "\n",
    "print(mapping)\n",
    "plt.plot(type_df[\"Outlet_Type\"],type_df[\"Item_Outlet_Sales\"],'go')\n",
    "plt.show()\n",
    "\n",
    "print(type_df[\"Outlet_Type\"].value_counts())\n",
    "print()\n",
    "\n",
    "for val in list(range(0,len(set(df[\"Outlet_Type\"].values)))):\n",
    "    cur_vals = (type_df[type_df[\"Outlet_Type\"] == val])[\"Item_Outlet_Sales\"]\n",
    "    cur_mean = round(cur_vals.mean(),2)\n",
    "    print(\"{} Mean: {}\\n\".format(val,cur_mean))\n",
    "\n",
    "print(\"There is def. a clear imapct here. \\n This variable shows possibly the most significant impact compared to any other features\")"
   ]
  },
  {
   "cell_type": "code",
   "execution_count": null,
   "metadata": {
    "scrolled": true
   },
   "outputs": [],
   "source": [
    "print(set(df[\"Outlet_Identifier\"].values))"
   ]
  },
  {
   "cell_type": "code",
   "execution_count": null,
   "metadata": {
    "collapsed": true
   },
   "outputs": [],
   "source": []
  }
 ],
 "metadata": {
  "kernelspec": {
   "display_name": "Python 3",
   "language": "python",
   "name": "python3"
  },
  "language_info": {
   "codemirror_mode": {
    "name": "ipython",
    "version": 3
   },
   "file_extension": ".py",
   "mimetype": "text/x-python",
   "name": "python",
   "nbconvert_exporter": "python",
   "pygments_lexer": "ipython3",
   "version": "3.6.2"
  }
 },
 "nbformat": 4,
 "nbformat_minor": 2
}
